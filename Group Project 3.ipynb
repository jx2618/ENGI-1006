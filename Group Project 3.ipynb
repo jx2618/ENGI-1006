{
 "cells": [
  {
   "cell_type": "code",
   "execution_count": 234,
   "id": "215b02be-9d3d-4063-86d8-3afa28ee0374",
   "metadata": {},
   "outputs": [],
   "source": [
    "# Part 1\n",
    "\n",
    "import numpy as np\n",
    "\n",
    "def load_data(csv_filename): # reading files\n",
    "    wine_data = [] # empty list for the data\n",
    "    with open(csv_filename, 'r') as file: # opens file using with, no need to close\n",
    "        next(file) # skips header row\n",
    "        for line in file:\n",
    "            line = line.strip()\n",
    "            data = [float(value.strip()) for value in line.split(';')][:-1] #  take a float of the stripped values, split by ;, excluding last column (quality)\n",
    "            wine_data.append(data)\n",
    "    return np.array(wine_data)  \n"
   ]
  },
  {
   "cell_type": "code",
   "execution_count": 278,
   "id": "0d434a3c-b43d-419b-9baa-2df226015b35",
   "metadata": {},
   "outputs": [],
   "source": [
    "red_wine = load_data('redwine.csv') # loading data\n",
    "white_wine = load_data('whitewine.csv')"
   ]
  },
  {
   "cell_type": "code",
   "execution_count": 280,
   "id": "78de7000-521c-4c02-bc4f-fcfbd69e9c6e",
   "metadata": {},
   "outputs": [],
   "source": [
    "def split_data(dataset, ratio): # splitting to training and testing portions\n",
    "    num_rows  = dataset.shape[0]\n",
    "    if ratio * num_rows is not int:\n",
    "        splitting_point = int(ratio * num_rows)\n",
    "    else:\n",
    "        splitting_point = ratio * num_rows\n",
    "    training_set = dataset[0:splitting_point]\n",
    "    testing_set = dataset[splitting_point:num_rows]\n",
    "    set_tuple = (training_set, testing_set)\n",
    "    return set_tuple"
   ]
  },
  {
   "cell_type": "code",
   "execution_count": 282,
   "id": "492675d4-3a07-4780-bb50-56a7fbee49cd",
   "metadata": {},
   "outputs": [],
   "source": [
    "red_wine_training, red_wine_testing = split_data(red_wine, .9) # unpacking training and testing tuple\n",
    "white_wine_training, white_wine_testing = split_data(white_wine, .9)"
   ]
  },
  {
   "cell_type": "code",
   "execution_count": 286,
   "id": "6e968463-b100-4c05-a841-e688f2c2550a",
   "metadata": {},
   "outputs": [
    {
     "name": "stdout",
     "output_type": "stream",
     "text": [
      "Red wine file shape: (1599, 11) Training set shape: (1439, 11) Testing set shape: (160, 11)\n",
      "White wine file shape: (1599, 11) Training set shape: (1439, 11) Testing set shape: (160, 11)\n"
     ]
    }
   ],
   "source": [
    "# printing shapes\n",
    "print(\"Red wine file shape:\", red_wine.shape, \"Training set shape:\", red_wine_training.shape, \"Testing set shape:\", red_wine_testing.shape)\n",
    "print(\"White wine file shape:\", white_wine.shape, \"Training set shape:\", white_wine_training.shape, \"Testing set shape:\", white_wine_testing.shape)\n"
   ]
  },
  {
   "cell_type": "code",
   "execution_count": 288,
   "id": "2fe52b3d-1d0d-48c4-bf25-67dbb93d77ef",
   "metadata": {},
   "outputs": [],
   "source": [
    "def experiment(ww_training, rw_training, ww_test, rw_test):\n",
    "\n",
    "\n",
    "\n",
    "# EVERYTHING BELOW IS DIRECTLY COPIED FROM THE LECTURE - I'm bad at ML so I will leave this \n",
    "\n",
    "import math\n",
    "\n",
    "def make_centroid(labeled_examples): \n",
    "    return sum(labeled_examples[:,1:]) / labeled_examples.shape[0]\n",
    "\n",
    "setosa_centroid = make_centroid(setosa)\n",
    "versicolor_centroid = make_centroid(versicolor)\n",
    "virginica_centroid = make_centroid(virginica)\n",
    "\n",
    "\n",
    "class NearestCentroidClassifier(object): \n",
    "    \n",
    "    def __init__(self, training_data):\n",
    "        \n",
    "        self.model = {} # map class to centroid vector\n",
    "        \n",
    "        classes = set(training_data[:,0])\n",
    "        for c in classes: \n",
    "            inputs_for_class = np.asarray([x for x in training_data if x[0]==c])\n",
    "            centroid = make_centroid(inputs_for_class)\n",
    "            self.model[int(c)] = centroid \n",
    "        print(f\"Created centroids for {len(classes)} classes.\")\n",
    "        \n",
    "    def predict(self, unlabeled_input): \n",
    "        \n",
    "        closest_class = None\n",
    "        closest_distance = math.inf\n",
    "        \n",
    "        for c in self.model: \n",
    "            centroid = self.model[c]\n",
    "            distance = euclidean_distance(centroid, unlabeled_input)\n",
    "            #print(\"Distance for {}: {}\".format(c, distance))\n",
    "            if distance < closest_distance: \n",
    "                closest_class = c\n",
    "                closest_distance = distance\n",
    "        return closest_class\n"
   ]
  },
  {
   "cell_type": "code",
   "execution_count": null,
   "id": "5d573ca3-f2d1-40e4-ae46-a18e3c1a2a87",
   "metadata": {},
   "outputs": [],
   "source": []
  }
 ],
 "metadata": {
  "kernelspec": {
   "display_name": "Python 3 (ipykernel)",
   "language": "python",
   "name": "python3"
  },
  "language_info": {
   "codemirror_mode": {
    "name": "ipython",
    "version": 3
   },
   "file_extension": ".py",
   "mimetype": "text/x-python",
   "name": "python",
   "nbconvert_exporter": "python",
   "pygments_lexer": "ipython3",
   "version": "3.12.4"
  }
 },
 "nbformat": 4,
 "nbformat_minor": 5
}
