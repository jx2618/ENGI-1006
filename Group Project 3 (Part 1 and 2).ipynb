{
 "cells": [
  {
   "cell_type": "code",
   "execution_count": 140,
   "id": "215b02be-9d3d-4063-86d8-3afa28ee0374",
   "metadata": {},
   "outputs": [],
   "source": [
    "# Part 1\n",
    "\n",
    "import numpy as np\n",
    "\n",
    "def load_data(csv_filename): # reading files\n",
    "    wine_data = [] # empty list for the data\n",
    "    with open(csv_filename, 'r') as file: # opens file using with, no need to close\n",
    "        next(file) # skips header row\n",
    "        for line in file:\n",
    "            line = line.strip()\n",
    "            data = [float(value.strip()) for value in line.split(';')][:-1] #  take a float of the stripped values, split by ;, excluding last column (quality)\n",
    "            wine_data.append(data)\n",
    "    return np.array(wine_data)  \n"
   ]
  },
  {
   "cell_type": "code",
   "execution_count": 141,
   "id": "0d434a3c-b43d-419b-9baa-2df226015b35",
   "metadata": {},
   "outputs": [],
   "source": [
    "red_wine = load_data('redwine.csv') # loading data\n",
    "white_wine = load_data('whitewine.csv')\n",
    "#print(red_wine)\n",
    "#print(white_wine)"
   ]
  },
  {
   "cell_type": "code",
   "execution_count": 142,
   "id": "78de7000-521c-4c02-bc4f-fcfbd69e9c6e",
   "metadata": {},
   "outputs": [],
   "source": [
    "def split_data(dataset, ratio): # splitting to training and testing portions\n",
    "    num_rows  = dataset.shape[0]\n",
    "    if ratio * num_rows is not int:\n",
    "        splitting_point = int(ratio * num_rows)\n",
    "    else:\n",
    "        splitting_point = ratio * num_rows\n",
    "    training_set = dataset[0:splitting_point]\n",
    "    testing_set = dataset[splitting_point:num_rows]\n",
    "    set_tuple = (training_set, testing_set)\n",
    "    return set_tuple"
   ]
  },
  {
   "cell_type": "code",
   "execution_count": 143,
   "id": "492675d4-3a07-4780-bb50-56a7fbee49cd",
   "metadata": {},
   "outputs": [],
   "source": [
    "red_wine_training, red_wine_testing = split_data(red_wine, .9) # unpacking training and testing tuplel, as an example we will use 0.9 as the ratio\n",
    "white_wine_training, white_wine_testing = split_data(white_wine, .9)"
   ]
  },
  {
   "cell_type": "code",
   "execution_count": 144,
   "id": "6e968463-b100-4c05-a841-e688f2c2550a",
   "metadata": {},
   "outputs": [
    {
     "name": "stdout",
     "output_type": "stream",
     "text": [
      "Red wine file shape: (1599, 11) Training set shape: (1439, 11) Testing set shape: (160, 11)\n",
      "White wine file shape: (1599, 11) Training set shape: (1439, 11) Testing set shape: (160, 11)\n"
     ]
    }
   ],
   "source": [
    "# printing shapes\n",
    "print(\"Red wine file shape:\", red_wine.shape, \"Training set shape:\", red_wine_training.shape, \"Testing set shape:\", red_wine_testing.shape)\n",
    "print(\"White wine file shape:\", white_wine.shape, \"Training set shape:\", white_wine_training.shape, \"Testing set shape:\", white_wine_testing.shape)\n"
   ]
  },
  {
   "cell_type": "code",
   "execution_count": 145,
   "id": "2fe52b3d-1d0d-48c4-bf25-67dbb93d77ef",
   "metadata": {},
   "outputs": [
    {
     "name": "stdout",
     "output_type": "stream",
     "text": [
      "Total number of predictions made: 320 \n",
      "Total number of correct predictions 291 \n",
      "Accuracy of the model: 0.909375\n"
     ]
    },
    {
     "data": {
      "text/plain": [
       "0.909375"
      ]
     },
     "execution_count": 145,
     "metadata": {},
     "output_type": "execute_result"
    }
   ],
   "source": [
    "# PART 2\n",
    "\n",
    "# centroid function (from lecture):\n",
    "import math\n",
    "\n",
    "def compute_centroid(labeled_examples): \n",
    "    return sum(labeled_examples[:,:]) / labeled_examples.shape[0]\n",
    "\n",
    "# euclidean distance function (from lecture):\n",
    "def euclidean_distance(a,b): \n",
    "    total = 0\n",
    "    for i in range(len(a)):\n",
    "        total += (a[i] - b[i])**2\n",
    "    return math.sqrt(total)\n",
    "\n",
    "#experiment function\n",
    "def experiment(ww_training, rw_training, ww_test, rw_test):\n",
    "    correct_for_ww = 0\n",
    "    correct_for_rw = 0\n",
    "    total = 0\n",
    "    ww_centroid = compute_centroid(ww_training) # compute the centroids for both red and white wine\n",
    "    rw_centroid = compute_centroid(rw_training)\n",
    "    #print(red_centroid.shape, white_centroid.shape) # checking to see if this matches the shapes of the four data sets (should be 11)\n",
    "\n",
    "    for data in ww_test:\n",
    "        distance_to_rw_centroid = euclidean_distance(data, rw_centroid)\n",
    "        distance_to_ww_centroid = euclidean_distance(data, ww_centroid)\n",
    "        total += 1\n",
    "        if distance_to_ww_centroid < distance_to_rw_centroid: # only correct if the data in the white wine test set is closer to the white wine centroid than the red wine centroid\n",
    "            correct_for_ww += 1\n",
    "    \n",
    "    for data in rw_test: # same thing but for red wine \n",
    "        distance_to_rw_centroid = euclidean_distance(data, rw_centroid)\n",
    "        distance_to_ww_centroid = euclidean_distance(data, ww_centroid)\n",
    "        total += 1\n",
    "        if distance_to_rw_centroid < distance_to_ww_centroid:\n",
    "            correct_for_rw += 1\n",
    "    \n",
    "    # print(correct_for_ww, correct_for_rw) #just wanted to see which type of wine it was more accurate for\n",
    "    correct = correct_for_ww + correct_for_rw\n",
    "    accuracy = correct/total\n",
    "    print(\"Total number of predictions made:\", total, \"\\nTotal number of correct predictions\", correct, \"\\nAccuracy of the model:\", accuracy)\n",
    "    return accuracy\n",
    "\n",
    "experiment(white_wine_training, red_wine_training, white_wine_testing, red_wine_testing)"
   ]
  },
  {
   "cell_type": "code",
   "execution_count": null,
   "id": "5d573ca3-f2d1-40e4-ae46-a18e3c1a2a87",
   "metadata": {},
   "outputs": [],
   "source": []
  },
  {
   "cell_type": "code",
   "execution_count": null,
   "id": "5b2dfd0c-c508-4a4e-965e-ec130f894a3c",
   "metadata": {},
   "outputs": [],
   "source": []
  }
 ],
 "metadata": {
  "kernelspec": {
   "display_name": "Python 3 (ipykernel)",
   "language": "python",
   "name": "python3"
  },
  "language_info": {
   "codemirror_mode": {
    "name": "ipython",
    "version": 3
   },
   "file_extension": ".py",
   "mimetype": "text/x-python",
   "name": "python",
   "nbconvert_exporter": "python",
   "pygments_lexer": "ipython3",
   "version": "3.12.4"
  }
 },
 "nbformat": 4,
 "nbformat_minor": 5
}
