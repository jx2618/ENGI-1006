{
 "cells": [
  {
   "cell_type": "code",
   "execution_count": 1,
   "id": "e7bb5283",
   "metadata": {},
   "outputs": [],
   "source": [
    "import numpy as np\n",
    "\n",
    "def load_data(csv_filename): # reading files\n",
    "    wine_data = [] # empty list for the data\n",
    "    with open(csv_filename, 'r') as file: # opens file using with, no need to close\n",
    "        next(file) # skips header row\n",
    "        for line in file:\n",
    "            line = line.strip()\n",
    "            data = [float(value.strip()) for value in line.split(';')][:-1] #  take a float of the stripped values, split by ;, excluding last column (quality)\n",
    "            wine_data.append(data) # append the float values into the empty list made for each csv file\n",
    "    return np.array(wine_data) # \n",
    "red_wine = load_data('redwine.csv') # loading data\n",
    "white_wine = load_data('whitewine''.csv')"
   ]
  },
  {
   "cell_type": "code",
   "execution_count": 2,
   "id": "bd3bb78b",
   "metadata": {},
   "outputs": [
    {
     "name": "stdout",
     "output_type": "stream",
     "text": [
      "Red wine file shape: (1599, 11) Training set shape: (1439, 11) Testing set shape: (160, 11)\n",
      "White wine file shape: (1599, 11) Training set shape: (1439, 11) Testing set shape: (160, 11)\n"
     ]
    }
   ],
   "source": [
    "def split_data(dataset, ratio): # splitting to training and testing portions based on given ratios\n",
    "    num_rows  = dataset.shape[0] \n",
    "    if not isinstance(ratio * num_rows, int): # if the ratio times the number of rows is not an integer (eg: a float)\n",
    "        splitting_point = int(ratio * num_rows) # convert type of the product into an integer via truncation; sets splitting point as this product\n",
    "    else:\n",
    "        splitting_point = ratio * num_rows # sets splitting point value as product of ratio & number of rows\n",
    "    training_set = dataset[0:splitting_point] # makes the first [ratio*num_rows] rows serve as the training rows / set\n",
    "    testing_set = dataset[splitting_point:num_rows] # makes the remaining rows serve as the testing rows / set\n",
    "    set_tuple = (training_set, testing_set) \n",
    "    return set_tuple # return tuple containing the training & testing sets\n",
    "red_wine_training, red_wine_testing = split_data(red_wine, .9) # unpacking training and testing tuple, as an example we will use 0.9 as the ratio (makes 90 percent of rows serve as training, 10 percent as testing)\n",
    "white_wine_training, white_wine_testing = split_data(white_wine, .9) # makes 90 percent of rows serve as training, 10 percent as testing\n",
    "# printing shapes\n",
    "print(\"Red wine file shape:\", red_wine.shape, \"Training set shape:\", red_wine_training.shape, \"Testing set shape:\", red_wine_testing.shape)\n",
    "print(\"White wine file shape:\", white_wine.shape, \"Training set shape:\", white_wine_training.shape, \"Testing set shape:\", white_wine_testing.shape)"
   ]
  },
  {
   "cell_type": "code",
   "execution_count": 3,
   "id": "fd34ef73",
   "metadata": {},
   "outputs": [
    {
     "name": "stdout",
     "output_type": "stream",
     "text": [
      "Total number of predictions made: 320 \n",
      "Total number of correct predictions 291 \n",
      "Accuracy of the model: 0.909375\n"
     ]
    },
    {
     "data": {
      "text/plain": [
       "0.909375"
      ]
     },
     "execution_count": 3,
     "metadata": {},
     "output_type": "execute_result"
    }
   ],
   "source": [
    "import math\n",
    "\n",
    "def compute_centroid(labeled_examples): \n",
    "    return sum(labeled_examples[:,:]) / labeled_examples.shape[0] # add up all rows and the divide by how many rows there are (this produces the average / centroid value)\n",
    "\n",
    "# euclidean distance function (from lecture):\n",
    "def euclidean_distance(a,b): \n",
    "    total = 0\n",
    "    for i in range(len(a)):\n",
    "        total += (a[i] - b[i])**2\n",
    "    return math.sqrt(total) # scalar distance between vectors a and b \n",
    "\n",
    "#experiment / testing function to see if running the testing set yields incorrect or correct predictions\n",
    "def experiment(ww_training, rw_training, ww_test, rw_test):\n",
    "    correct_for_ww = 0 # initiate counts for number of correctly predicted values from testing set \n",
    "    correct_for_rw = 0\n",
    "    total = 0 # initiate count for total number of values tested\n",
    "    ww_centroid = compute_centroid(ww_training) # compute the centroid for the white wine's training values\n",
    "    rw_centroid = compute_centroid(rw_training) # compute the centroid for the red wine's training values\n",
    "    #print(red_centroid.shape, white_centroid.shape) # checking to see if this matches the shapes of the four data sets (should be 11)\n",
    "\n",
    "    for data in ww_test: # for values in the white wine testing set\n",
    "        distance_to_rw_centroid = euclidean_distance(data, rw_centroid) # calculate the distance of the white wine testing value from the red wine's centroid value \n",
    "        distance_to_ww_centroid = euclidean_distance(data, ww_centroid) # calculate the distance of the white wine testing value from the white wine's centroid value \n",
    "        total += 1 # increment the total prediction count\n",
    "        if distance_to_ww_centroid < distance_to_rw_centroid: # only correct if the data in the white wine test set is closer to the white wine centroid than the red wine centroid\n",
    "            correct_for_ww += 1 # if this is correct, then add 1 to the corect count\n",
    "    \n",
    "    for data in rw_test: # same thing but for red wine \n",
    "        distance_to_rw_centroid = euclidean_distance(data, rw_centroid)\n",
    "        distance_to_ww_centroid = euclidean_distance(data, ww_centroid)\n",
    "        total += 1 # increment the total prediction count\n",
    "        if distance_to_rw_centroid < distance_to_ww_centroid:\n",
    "            correct_for_rw += 1\n",
    "    \n",
    "    # print(correct_for_ww, correct_for_rw) #just wanted to see which type of wine it was more accurate for\n",
    "    correct = correct_for_ww + correct_for_rw # total correct predictions is the sum of correct red wine predictions and correct white wine predictions\n",
    "    accuracy = correct/total # accuracy is correct productions divided by total predictions\n",
    "    print(\"Total number of predictions made:\", total, \"\\nTotal number of correct predictions\", correct, \"\\nAccuracy of the model:\", accuracy)\n",
    "    return accuracy # returns the final accuracy \n",
    "\n",
    "experiment(white_wine_training, red_wine_training, white_wine_testing, red_wine_testing)"
   ]
  },
  {
   "cell_type": "code",
   "execution_count": 4,
   "id": "7b7c9ba6",
   "metadata": {},
   "outputs": [
    {
     "name": "stdout",
     "output_type": "stream",
     "text": [
      "Total number of predictions made: 638 \n",
      "Total number of correct predictions 544 \n",
      "Accuracy of the model: 0.8526645768025078\n",
      "Total number of predictions made: 638 \n",
      "Total number of correct predictions 561 \n",
      "Accuracy of the model: 0.8793103448275862\n",
      "Total number of predictions made: 638 \n",
      "Total number of correct predictions 571 \n",
      "Accuracy of the model: 0.8949843260188087\n",
      "Total number of predictions made: 638 \n",
      "Total number of correct predictions 568 \n",
      "Accuracy of the model: 0.890282131661442\n",
      "Total number of predictions made: 646 \n",
      "Total number of correct predictions 579 \n",
      "Accuracy of the model: 0.8962848297213623\n",
      "Average Accuracy from Cross Validation: 0.8827052418063415\n"
     ]
    },
    {
     "data": {
      "text/plain": [
       "0.8827052418063415"
      ]
     },
     "execution_count": 4,
     "metadata": {},
     "output_type": "execute_result"
    }
   ],
   "source": [
    "def cross_validation(ww_data, rw_data, k):\n",
    "    # performs k-fold cross-validation on two datasets: white wine (ww_data) and red wine (rw_data)\n",
    "    # k is the number of folds for cross-validation\n",
    "    if len(ww_data) == len(rw_data): # check for that the data sets are of equal length\n",
    "        fold_size = len(ww_data)//k  # determine size of each fold so later, we can make each fold the same size\n",
    "        accuracy_sum = 0 # sum of all accuracies over folds\n",
    "        accuracy_count = 0 # count the number of accuracies (used for averaging)\n",
    "    else:\n",
    "        raise ValueError(\"Datasets must have the same length for cross-validation.\")\n",
    "        \n",
    "    for x in range(k):  # iterate over k-folds\n",
    "        if x < (k-1):  # for all folds except the last one\n",
    "            i = x * fold_size  # starting index of the fold\n",
    "            j = (x + 1) * fold_size  # ending index of the fold\n",
    "\n",
    "            # test sets for current fold\n",
    "            ww_test_set = ww_data[i:j]\n",
    "            rw_test_set = rw_data[i:j]\n",
    "\n",
    "            # training sets: combine data before and after the test fold\n",
    "            # for white wine data set\n",
    "            ww_1 = ww_data[:i]  # data before the test fold\n",
    "            ww_2 = ww_data[j+1:len(ww_data)]  # data after the test fold\n",
    "            ww_training_set = np.vstack((ww_1, ww_2))  # combine the two parts to create the training set\n",
    "            \n",
    "            # for red wine data set\n",
    "            rw_1 = rw_data[:i]  # data before the test fold\n",
    "            rw_2 = rw_data[j+1:len(rw_data)]  # data after the test fold\n",
    "            rw_training_set = np.vstack((rw_1, rw_2))  # combine the two parts to create the training set\n",
    "\n",
    "            # run the experiment and accumulate accuracy\n",
    "            accuracy = experiment(ww_training_set, rw_training_set, ww_test_set, rw_test_set)\n",
    "            accuracy_sum += accuracy\n",
    "            accuracy_count += 1\n",
    "\n",
    "        elif x == (k-1):  # to account for when k doesn't divide evenly into the data, include the \"extra\" data in the last fold\n",
    "            i = x * fold_size  # starting index of the last test fold\n",
    "\n",
    "            # test sets: remainder of the data\n",
    "            ww_test_set = ww_data[i:len(ww_data)+1]\n",
    "            rw_test_set = rw_data[i:len(rw_data)+1]\n",
    "\n",
    "            # training sets: all data before the last test fold\n",
    "            ww_training_set = ww_data[:i]\n",
    "            rw_training_set = rw_data[:i]\n",
    "\n",
    "            # run the experiment and accumulate accuracy\n",
    "            accuracy = experiment(ww_training_set, rw_training_set, ww_test_set, rw_test_set)\n",
    "            accuracy_sum += accuracy\n",
    "            accuracy_count += 1\n",
    "\n",
    "    avg_accuracy = accuracy_sum/accuracy_count\n",
    "    print(\"Average Accuracy from Cross Validation:\", avg_accuracy)\n",
    "    return avg_accuracy\n",
    "\n",
    "cross_validation(white_wine, red_wine, 5) # call cross validation with five folds"
   ]
  },
  {
   "cell_type": "code",
   "execution_count": null,
   "id": "7e325303",
   "metadata": {},
   "outputs": [],
   "source": []
  }
 ],
 "metadata": {
  "kernelspec": {
   "display_name": "Python 3 (ipykernel)",
   "language": "python",
   "name": "python3"
  },
  "language_info": {
   "codemirror_mode": {
    "name": "ipython",
    "version": 3
   },
   "file_extension": ".py",
   "mimetype": "text/x-python",
   "name": "python",
   "nbconvert_exporter": "python",
   "pygments_lexer": "ipython3",
   "version": "3.11.5"
  }
 },
 "nbformat": 4,
 "nbformat_minor": 5
}
